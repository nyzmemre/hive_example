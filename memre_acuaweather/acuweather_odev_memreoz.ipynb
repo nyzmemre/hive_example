{
 "cells": [
  {
   "cell_type": "code",
   "execution_count": 3,
   "id": "d276a5a6",
   "metadata": {},
   "outputs": [
    {
     "name": "stderr",
     "output_type": "stream",
     "text": [
      "/opt/anaconda3/lib/python3.9/site-packages/pandas/core/computation/expressions.py:21: UserWarning: Pandas requires version '2.8.4' or newer of 'numexpr' (version '2.8.3' currently installed).\n",
      "  from pandas.core.computation.check import NUMEXPR_INSTALLED\n",
      "/opt/anaconda3/lib/python3.9/site-packages/pandas/core/arrays/masked.py:60: UserWarning: Pandas requires version '1.3.6' or newer of 'bottleneck' (version '1.3.5' currently installed).\n",
      "  from pandas.core import (\n"
     ]
    }
   ],
   "source": [
    "import requests\n",
    "from bs4 import BeautifulSoup as bts\n",
    "import pandas as pd\n",
    "import re\n",
    "import numpy as np\n",
    "import time"
   ]
  },
  {
   "cell_type": "code",
   "execution_count": 4,
   "id": "e590409d",
   "metadata": {},
   "outputs": [],
   "source": [
    "def getAndParseURL(url):\n",
    "    result = requests.get(url, headers={\"User-Agent\":\"Chrome/125.0.6422.76\"}) # Safari/537.36. Chrome/103.0.0.0\n",
    "    soup = bts(result.text, \"html.parser\")\n",
    "    return soup"
   ]
  },
  {
   "cell_type": "markdown",
   "id": "53be51f4",
   "metadata": {},
   "source": [
    "# Açıklamalar"
   ]
  },
  {
   "cell_type": "code",
   "execution_count": 5,
   "id": "fb41cfbe",
   "metadata": {},
   "outputs": [],
   "source": [
    "#Aydın iline ait sıcaklık tahminleri elde edildi.\n",
    "#Siteyi ilk açtığımızdaki bugüne ait değerler \n",
    "#https://www.accuweather.com/tr/tr/aydin/317040/weather-today/317040 linkiyle geliyor. \n",
    "#İkinci güne ait link https://www.accuweather.com/tr/tr/aydin/317040/weather-tomorrow/317040 şeklinde geliyor. \n",
    "#Üçüncü günden itibaren https://www.accuweather.com/tr/tr/aydin/317040/daily-weather-forecast/317040?day=3 şeklinde geliyor.\n",
    "#Linkler değişiyor. Ancak eğer biz day=1 yaparsak bugüne, day=2 yaparsak yarının değerlerine ulaşabiliyoruz.\n",
    "#Bu yüzden döngü ile rahatlıkla linkleri çekebildik.\n",
    "#Her sayfada gece ve gündüze ait değerleri elde etmemiz isteniyor.\n",
    "#Bu değerler aynı iki parametrede bulunuyor. (half-day-card-header__title)\n",
    "#Bu yüzden 2 adet index içeren bir döngüyle gündüz ve gece verilerini rahatlıkla çektik.\n",
    "#for index in range (0,2): işleminin sebebi gündüz ve gece verilerine ayrı ayrı ulaşabilmektir.\n",
    "#Gece verilerinde Maks UV İndeksi olmadığı için NAN gelmiştir. Bu durum olağandır."
   ]
  },
  {
   "cell_type": "code",
   "execution_count": 6,
   "id": "e45d03d1",
   "metadata": {},
   "outputs": [
    {
     "data": {
      "text/plain": [
       "['https://www.accuweather.com/tr/tr/aydin/317040/daily-weather-forecast/317040?day=1',\n",
       " 'https://www.accuweather.com/tr/tr/aydin/317040/daily-weather-forecast/317040?day=2',\n",
       " 'https://www.accuweather.com/tr/tr/aydin/317040/daily-weather-forecast/317040?day=3',\n",
       " 'https://www.accuweather.com/tr/tr/aydin/317040/daily-weather-forecast/317040?day=4',\n",
       " 'https://www.accuweather.com/tr/tr/aydin/317040/daily-weather-forecast/317040?day=5',\n",
       " 'https://www.accuweather.com/tr/tr/aydin/317040/daily-weather-forecast/317040?day=6',\n",
       " 'https://www.accuweather.com/tr/tr/aydin/317040/daily-weather-forecast/317040?day=7']"
      ]
     },
     "execution_count": 6,
     "metadata": {},
     "output_type": "execute_result"
    }
   ],
   "source": [
    "pages = [\"https://www.accuweather.com/tr/tr/aydin/317040/daily-weather-forecast/317040?day=1\"]\n",
    "for page in range(2,8):\n",
    "    pages.append(\"https://www.accuweather.com/tr/tr/aydin/317040/daily-weather-forecast/317040?day=\"+str(page))\n",
    "    \n",
    "pages"
   ]
  },
  {
   "cell_type": "code",
   "execution_count": 7,
   "id": "38a79bc7",
   "metadata": {},
   "outputs": [],
   "source": [
    "html=getAndParseURL('https://www.accuweather.com/tr/tr/aydin/317040/daily-weather-forecast/317040?day=1')"
   ]
  },
  {
   "cell_type": "code",
   "execution_count": 8,
   "id": "827fc179",
   "metadata": {},
   "outputs": [
    {
     "data": {
      "text/plain": [
       "'Pazar'"
      ]
     },
     "execution_count": 8,
     "metadata": {},
     "output_type": "execute_result"
    }
   ],
   "source": [
    "date_all=html.find(\"div\", {\"class\": \"subnav-pagination\"}).text.strip().split()\n",
    "day=date_all[0].rstrip(',')\n",
    "day"
   ]
  },
  {
   "cell_type": "code",
   "execution_count": 9,
   "id": "f45d0428",
   "metadata": {},
   "outputs": [
    {
     "data": {
      "text/plain": [
       "'23 Haziran'"
      ]
     },
     "execution_count": 9,
     "metadata": {},
     "output_type": "execute_result"
    }
   ],
   "source": [
    "date=date_all[1] + ' ' + date_all[2]\n",
    "date"
   ]
  },
  {
   "cell_type": "code",
   "execution_count": 10,
   "id": "e9123ca8",
   "metadata": {},
   "outputs": [
    {
     "data": {
      "text/plain": [
       "'Gündüz'"
      ]
     },
     "execution_count": 10,
     "metadata": {},
     "output_type": "execute_result"
    }
   ],
   "source": [
    "day_period=html.find(\"div\", {\"class\": \"half-day-card-header__title\"}).text.strip().split()[0]\n",
    "day_period"
   ]
  },
  {
   "cell_type": "code",
   "execution_count": 11,
   "id": "54a32039",
   "metadata": {},
   "outputs": [
    {
     "data": {
      "text/plain": [
       "'39°En Yüks.'"
      ]
     },
     "execution_count": 11,
     "metadata": {},
     "output_type": "execute_result"
    }
   ],
   "source": [
    "temperature=html.find(\"div\", {\"class\":\"temperature\"}).text.strip()\n",
    "temperature"
   ]
  },
  {
   "cell_type": "code",
   "execution_count": 12,
   "id": "0cf22556",
   "metadata": {},
   "outputs": [
    {
     "data": {
      "text/plain": [
       "'11 Çok Sağlıksız'"
      ]
     },
     "execution_count": 12,
     "metadata": {},
     "output_type": "execute_result"
    }
   ],
   "source": [
    "max_uv_index=html.find(\"div\", {\"class\":\"left\"}).find(string=\"Maks UV İndeksi\").findNext().text.strip()\n",
    "max_uv_index"
   ]
  },
  {
   "cell_type": "code",
   "execution_count": 13,
   "id": "306bdef4",
   "metadata": {},
   "outputs": [
    {
     "data": {
      "text/plain": [
       "'%0'"
      ]
     },
     "execution_count": 13,
     "metadata": {},
     "output_type": "execute_result"
    }
   ],
   "source": [
    "possibility_of_thundershowers=html.find(\"div\",{\"class\": \"right\"}).find(string=\"Gök Gürültülü Sağanak Yağış Olasılığı\").findNext().text.strip()\n",
    "possibility_of_thundershowers"
   ]
  },
  {
   "cell_type": "code",
   "execution_count": 14,
   "id": "bbf677fe",
   "metadata": {},
   "outputs": [
    {
     "data": {
      "text/plain": [
       "'BGB 6 km/sa'"
      ]
     },
     "execution_count": 14,
     "metadata": {},
     "output_type": "execute_result"
    }
   ],
   "source": [
    "wind=html.find(\"div\", {\"class\":\"left\"}).find(string=\"Rüzgar\").findNext().text.strip()\n",
    "wind"
   ]
  },
  {
   "cell_type": "code",
   "execution_count": 15,
   "id": "c5cfebc4",
   "metadata": {},
   "outputs": [
    {
     "data": {
      "text/plain": [
       "'0.0 mm'"
      ]
     },
     "execution_count": 15,
     "metadata": {},
     "output_type": "execute_result"
    }
   ],
   "source": [
    "rainfall=html.find(\"div\", {\"class\":\"right\"}).find(string=\"Yağış\").findNext().text.strip()\n",
    "rainfall"
   ]
  },
  {
   "cell_type": "code",
   "execution_count": 16,
   "id": "d7c76d68",
   "metadata": {},
   "outputs": [
    {
     "data": {
      "text/plain": [
       "'%0'"
      ]
     },
     "execution_count": 16,
     "metadata": {},
     "output_type": "execute_result"
    }
   ],
   "source": [
    "rainfall_forecast=html.find(\"div\", {\"class\":\"left\"}).find(string=\"Yağış Beklentisi\").findNext().text.strip()\n",
    "rainfall_forecast"
   ]
  },
  {
   "cell_type": "code",
   "execution_count": 17,
   "id": "e3c2f097",
   "metadata": {},
   "outputs": [
    {
     "data": {
      "text/plain": [
       "'Gündüz\\n\\n\\t\\t\\t\\t23.6'"
      ]
     },
     "execution_count": 17,
     "metadata": {},
     "output_type": "execute_result"
    }
   ],
   "source": [
    "day_other_period=html.find(\"div\", {\"class\":\"half-day-card-header__title\"}).text.strip()\n",
    "day_other_period"
   ]
  },
  {
   "cell_type": "code",
   "execution_count": 18,
   "id": "e001f72b",
   "metadata": {},
   "outputs": [
    {
     "data": {
      "text/plain": [
       "'Gece'"
      ]
     },
     "execution_count": 18,
     "metadata": {},
     "output_type": "execute_result"
    }
   ],
   "source": [
    "datas=html.find_all(\"div\", {\"class\":\"half-day-card-header__title\"})[1].text.strip().split()[0]\n",
    "datas"
   ]
  },
  {
   "cell_type": "code",
   "execution_count": 36,
   "id": "3ab1f835",
   "metadata": {},
   "outputs": [],
   "source": [
    "df_features=[]\n",
    "for page in pages:\n",
    "    html=getAndParseURL(page)\n",
    "    date_all=html.find(\"div\", {\"class\": \"subnav-pagination\"}).text.strip().split()\n",
    "    for index in range (0,2):\n",
    "        try:\n",
    "            day=day=date_all[0].rstrip(',')\n",
    "        except:\n",
    "            day=np.nan\n",
    "        try:\n",
    "            date=date_all[1] + ' ' + date_all[2]\n",
    "        except:\n",
    "            date=np.nan\n",
    "        try:\n",
    "            day_period=html.find_all(\"div\", {\"class\":\"half-day-card-header__title\"})[index].text.strip().split()[0]\n",
    "        except:\n",
    "            day_period=np.nan\n",
    "        try:\n",
    "            temperature=html.find_all(\"div\", {\"class\":\"temperature\"})[index].text.strip()\n",
    "        except:\n",
    "            temperature=np.nan\n",
    "        try:\n",
    "            wind=html.find_all(\"div\", {\"class\":\"left\"})[index].find(string=\"Rüzgar\").findNext().text.strip()\n",
    "        except:\n",
    "            wind=np.nan\n",
    "        try: \n",
    "            possibility_of_thundershowers=html.find_all(\"div\",{\"class\": \"right\"})[index].find(string=\"Gök Gürültülü Sağanak Yağış Olasılığı\").findNext().text.strip()\n",
    "        except:\n",
    "            possibility_of_thundershowers=np.nan\n",
    "        try:\n",
    "            rainfall=html.find_all(\"div\", {\"class\":\"right\"})[index].find(string=\"Yağış\").findNext().text.strip()\n",
    "        except:\n",
    "            rainfall=np.nan\n",
    "        try:\n",
    "            rainfall_forecast=html.find_all(\"div\", {\"class\":\"left\"})[index].find(string=\"Yağış Beklentisi\").findNext().text.strip()\n",
    "        except:\n",
    "            rainfall_forecast=np.nan\n",
    "        try:\n",
    "            covered_in_clouds=html.find_all(\"div\", {\"class\":\"right\"})[index].find(string=\"Bulutlarla Kaplı\").findNext().text.strip()\n",
    "        except:\n",
    "            covered_in_clouds=np.nan\n",
    "        try:\n",
    "            max_uv_index=html.find_all(\"div\", {\"class\":\"left\"})[index].find(string=\"Maks UV İndeksi\").findNext().text.strip()\n",
    "        except:\n",
    "            max_uv_index=np.nan\n",
    "\n",
    "        df_features.append([date, day, day_period, temperature, wind, rainfall_forecast, possibility_of_thundershowers, rainfall, covered_in_clouds, max_uv_index])\n",
    "        \n",
    "        time.sleep(1)\n",
    "\n",
    "    \n",
    "df_columns=[\"Tarih\", \"Gün\", \"Gün Dönemi\", \";Sıcaklık\", \"Rüzgar\", \"Yağış Beklentisi\", \"Gök Gürültülü Sağanak Yağış Olasılığı\", \"Yağış\", \"Bulutlarla Kaplı\", \"Maks UV İndeksi\"]\n",
    "\n",
    "df = pd.DataFrame.from_records(df_features, columns=df_columns)\n",
    "            "
   ]
  },
  {
   "cell_type": "code",
   "execution_count": 37,
   "id": "80e9232f",
   "metadata": {},
   "outputs": [
    {
     "data": {
      "text/html": [
       "<div>\n",
       "<style scoped>\n",
       "    .dataframe tbody tr th:only-of-type {\n",
       "        vertical-align: middle;\n",
       "    }\n",
       "\n",
       "    .dataframe tbody tr th {\n",
       "        vertical-align: top;\n",
       "    }\n",
       "\n",
       "    .dataframe thead th {\n",
       "        text-align: right;\n",
       "    }\n",
       "</style>\n",
       "<table border=\"1\" class=\"dataframe\">\n",
       "  <thead>\n",
       "    <tr style=\"text-align: right;\">\n",
       "      <th></th>\n",
       "      <th>Tarih</th>\n",
       "      <th>Gün</th>\n",
       "      <th>Gün Dönemi</th>\n",
       "      <th>;Sıcaklık</th>\n",
       "      <th>Rüzgar</th>\n",
       "      <th>Yağış Beklentisi</th>\n",
       "      <th>Gök Gürültülü Sağanak Yağış Olasılığı</th>\n",
       "      <th>Yağış</th>\n",
       "      <th>Bulutlarla Kaplı</th>\n",
       "      <th>Maks UV İndeksi</th>\n",
       "    </tr>\n",
       "  </thead>\n",
       "  <tbody>\n",
       "    <tr>\n",
       "      <th>0</th>\n",
       "      <td>23 Haziran</td>\n",
       "      <td>Pazar</td>\n",
       "      <td>Gündüz</td>\n",
       "      <td>39°En Yüks.</td>\n",
       "      <td>BGB 6 km/sa</td>\n",
       "      <td>%0</td>\n",
       "      <td>%0</td>\n",
       "      <td>0.0 mm</td>\n",
       "      <td>%0</td>\n",
       "      <td>11 Çok Sağlıksız</td>\n",
       "    </tr>\n",
       "    <tr>\n",
       "      <th>1</th>\n",
       "      <td>23 Haziran</td>\n",
       "      <td>Pazar</td>\n",
       "      <td>Gece</td>\n",
       "      <td>21°En Düş.</td>\n",
       "      <td>KB 6 km/sa</td>\n",
       "      <td>%0</td>\n",
       "      <td>%0</td>\n",
       "      <td>0.0 mm</td>\n",
       "      <td>%0</td>\n",
       "      <td>NaN</td>\n",
       "    </tr>\n",
       "    <tr>\n",
       "      <th>2</th>\n",
       "      <td>24 Haziran</td>\n",
       "      <td>Pazartesi</td>\n",
       "      <td>Gündüz</td>\n",
       "      <td>40°En Yüks.</td>\n",
       "      <td>BGB 13 km/sa</td>\n",
       "      <td>%0</td>\n",
       "      <td>%0</td>\n",
       "      <td>0.0 mm</td>\n",
       "      <td>%2</td>\n",
       "      <td>11 Çok Sağlıksız</td>\n",
       "    </tr>\n",
       "    <tr>\n",
       "      <th>3</th>\n",
       "      <td>24 Haziran</td>\n",
       "      <td>Pazartesi</td>\n",
       "      <td>Gece</td>\n",
       "      <td>21°En Düş.</td>\n",
       "      <td>BKB 7 km/sa</td>\n",
       "      <td>%0</td>\n",
       "      <td>%0</td>\n",
       "      <td>0.0 mm</td>\n",
       "      <td>%0</td>\n",
       "      <td>NaN</td>\n",
       "    </tr>\n",
       "    <tr>\n",
       "      <th>4</th>\n",
       "      <td>25 Haziran</td>\n",
       "      <td>Salı</td>\n",
       "      <td>Gündüz</td>\n",
       "      <td>40°En Yüks.</td>\n",
       "      <td>B 13 km/sa</td>\n",
       "      <td>%0</td>\n",
       "      <td>%0</td>\n",
       "      <td>0.0 mm</td>\n",
       "      <td>%0</td>\n",
       "      <td>11 Çok Sağlıksız</td>\n",
       "    </tr>\n",
       "    <tr>\n",
       "      <th>5</th>\n",
       "      <td>25 Haziran</td>\n",
       "      <td>Salı</td>\n",
       "      <td>Gece</td>\n",
       "      <td>21°En Düş.</td>\n",
       "      <td>KKB 7 km/sa</td>\n",
       "      <td>%0</td>\n",
       "      <td>%0</td>\n",
       "      <td>0.0 mm</td>\n",
       "      <td>%0</td>\n",
       "      <td>NaN</td>\n",
       "    </tr>\n",
       "    <tr>\n",
       "      <th>6</th>\n",
       "      <td>26 Haziran</td>\n",
       "      <td>Çarşamba</td>\n",
       "      <td>Gündüz</td>\n",
       "      <td>41°En Yüks.</td>\n",
       "      <td>BKB 11 km/sa</td>\n",
       "      <td>%0</td>\n",
       "      <td>%0</td>\n",
       "      <td>0.0 mm</td>\n",
       "      <td>%0</td>\n",
       "      <td>11 Çok Sağlıksız</td>\n",
       "    </tr>\n",
       "    <tr>\n",
       "      <th>7</th>\n",
       "      <td>26 Haziran</td>\n",
       "      <td>Çarşamba</td>\n",
       "      <td>Gece</td>\n",
       "      <td>21°En Düş.</td>\n",
       "      <td>KB 6 km/sa</td>\n",
       "      <td>%0</td>\n",
       "      <td>%0</td>\n",
       "      <td>0.0 mm</td>\n",
       "      <td>%0</td>\n",
       "      <td>NaN</td>\n",
       "    </tr>\n",
       "    <tr>\n",
       "      <th>8</th>\n",
       "      <td>27 Haziran</td>\n",
       "      <td>Perşembe</td>\n",
       "      <td>Gündüz</td>\n",
       "      <td>41°En Yüks.</td>\n",
       "      <td>BGB 11 km/sa</td>\n",
       "      <td>%0</td>\n",
       "      <td>%0</td>\n",
       "      <td>0.0 mm</td>\n",
       "      <td>%0</td>\n",
       "      <td>11 Çok Sağlıksız</td>\n",
       "    </tr>\n",
       "    <tr>\n",
       "      <th>9</th>\n",
       "      <td>27 Haziran</td>\n",
       "      <td>Perşembe</td>\n",
       "      <td>Gece</td>\n",
       "      <td>22°En Düş.</td>\n",
       "      <td>BKB 6 km/sa</td>\n",
       "      <td>%0</td>\n",
       "      <td>%0</td>\n",
       "      <td>0.0 mm</td>\n",
       "      <td>%0</td>\n",
       "      <td>NaN</td>\n",
       "    </tr>\n",
       "    <tr>\n",
       "      <th>10</th>\n",
       "      <td>28 Haziran</td>\n",
       "      <td>Cuma</td>\n",
       "      <td>Gündüz</td>\n",
       "      <td>37°En Yüks.</td>\n",
       "      <td>B 13 km/sa</td>\n",
       "      <td>%0</td>\n",
       "      <td>%0</td>\n",
       "      <td>0.0 mm</td>\n",
       "      <td>%0</td>\n",
       "      <td>11 Çok Sağlıksız</td>\n",
       "    </tr>\n",
       "    <tr>\n",
       "      <th>11</th>\n",
       "      <td>28 Haziran</td>\n",
       "      <td>Cuma</td>\n",
       "      <td>Gece</td>\n",
       "      <td>19°En Düş.</td>\n",
       "      <td>BKB 6 km/sa</td>\n",
       "      <td>%0</td>\n",
       "      <td>%0</td>\n",
       "      <td>0.0 mm</td>\n",
       "      <td>%0</td>\n",
       "      <td>NaN</td>\n",
       "    </tr>\n",
       "    <tr>\n",
       "      <th>12</th>\n",
       "      <td>29 Haziran</td>\n",
       "      <td>Cumartesi</td>\n",
       "      <td>Gündüz</td>\n",
       "      <td>37°En Yüks.</td>\n",
       "      <td>KB 6 km/sa</td>\n",
       "      <td>%0</td>\n",
       "      <td>%0</td>\n",
       "      <td>0.0 mm</td>\n",
       "      <td>%4</td>\n",
       "      <td>11 Çok Sağlıksız</td>\n",
       "    </tr>\n",
       "    <tr>\n",
       "      <th>13</th>\n",
       "      <td>29 Haziran</td>\n",
       "      <td>Cumartesi</td>\n",
       "      <td>Gece</td>\n",
       "      <td>20°En Düş.</td>\n",
       "      <td>K 7 km/sa</td>\n",
       "      <td>%0</td>\n",
       "      <td>%0</td>\n",
       "      <td>0.0 mm</td>\n",
       "      <td>%0</td>\n",
       "      <td>NaN</td>\n",
       "    </tr>\n",
       "  </tbody>\n",
       "</table>\n",
       "</div>"
      ],
      "text/plain": [
       "         Tarih        Gün Gün Dönemi    ;Sıcaklık        Rüzgar  \\\n",
       "0   23 Haziran      Pazar     Gündüz  39°En Yüks.   BGB 6 km/sa   \n",
       "1   23 Haziran      Pazar       Gece   21°En Düş.    KB 6 km/sa   \n",
       "2   24 Haziran  Pazartesi     Gündüz  40°En Yüks.  BGB 13 km/sa   \n",
       "3   24 Haziran  Pazartesi       Gece   21°En Düş.   BKB 7 km/sa   \n",
       "4   25 Haziran       Salı     Gündüz  40°En Yüks.    B 13 km/sa   \n",
       "5   25 Haziran       Salı       Gece   21°En Düş.   KKB 7 km/sa   \n",
       "6   26 Haziran   Çarşamba     Gündüz  41°En Yüks.  BKB 11 km/sa   \n",
       "7   26 Haziran   Çarşamba       Gece   21°En Düş.    KB 6 km/sa   \n",
       "8   27 Haziran   Perşembe     Gündüz  41°En Yüks.  BGB 11 km/sa   \n",
       "9   27 Haziran   Perşembe       Gece   22°En Düş.   BKB 6 km/sa   \n",
       "10  28 Haziran       Cuma     Gündüz  37°En Yüks.    B 13 km/sa   \n",
       "11  28 Haziran       Cuma       Gece   19°En Düş.   BKB 6 km/sa   \n",
       "12  29 Haziran  Cumartesi     Gündüz  37°En Yüks.    KB 6 km/sa   \n",
       "13  29 Haziran  Cumartesi       Gece   20°En Düş.     K 7 km/sa   \n",
       "\n",
       "   Yağış Beklentisi Gök Gürültülü Sağanak Yağış Olasılığı   Yağış  \\\n",
       "0                %0                                    %0  0.0 mm   \n",
       "1                %0                                    %0  0.0 mm   \n",
       "2                %0                                    %0  0.0 mm   \n",
       "3                %0                                    %0  0.0 mm   \n",
       "4                %0                                    %0  0.0 mm   \n",
       "5                %0                                    %0  0.0 mm   \n",
       "6                %0                                    %0  0.0 mm   \n",
       "7                %0                                    %0  0.0 mm   \n",
       "8                %0                                    %0  0.0 mm   \n",
       "9                %0                                    %0  0.0 mm   \n",
       "10               %0                                    %0  0.0 mm   \n",
       "11               %0                                    %0  0.0 mm   \n",
       "12               %0                                    %0  0.0 mm   \n",
       "13               %0                                    %0  0.0 mm   \n",
       "\n",
       "   Bulutlarla Kaplı   Maks UV İndeksi  \n",
       "0                %0  11 Çok Sağlıksız  \n",
       "1                %0               NaN  \n",
       "2                %2  11 Çok Sağlıksız  \n",
       "3                %0               NaN  \n",
       "4                %0  11 Çok Sağlıksız  \n",
       "5                %0               NaN  \n",
       "6                %0  11 Çok Sağlıksız  \n",
       "7                %0               NaN  \n",
       "8                %0  11 Çok Sağlıksız  \n",
       "9                %0               NaN  \n",
       "10               %0  11 Çok Sağlıksız  \n",
       "11               %0               NaN  \n",
       "12               %4  11 Çok Sağlıksız  \n",
       "13               %0               NaN  "
      ]
     },
     "execution_count": 37,
     "metadata": {},
     "output_type": "execute_result"
    }
   ],
   "source": [
    "df"
   ]
  },
  {
   "cell_type": "code",
   "execution_count": 39,
   "id": "48fa6ae7",
   "metadata": {},
   "outputs": [],
   "source": [
    "df.to_csv('/Users/nyzmemre/dsBootCamp/datas/acuweather_memre_odev.csv', index=False)"
   ]
  },
  {
   "cell_type": "code",
   "execution_count": null,
   "id": "0968b3b5",
   "metadata": {},
   "outputs": [],
   "source": []
  }
 ],
 "metadata": {
  "kernelspec": {
   "display_name": "Python 3 (ipykernel)",
   "language": "python",
   "name": "python3"
  },
  "language_info": {
   "codemirror_mode": {
    "name": "ipython",
    "version": 3
   },
   "file_extension": ".py",
   "mimetype": "text/x-python",
   "name": "python",
   "nbconvert_exporter": "python",
   "pygments_lexer": "ipython3",
   "version": "3.9.13"
  }
 },
 "nbformat": 4,
 "nbformat_minor": 5
}
